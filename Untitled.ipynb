{
 "cells": [
  {
   "cell_type": "code",
   "execution_count": null,
   "metadata": {},
   "outputs": [],
   "source": []
  },
  {
   "cell_type": "code",
   "execution_count": null,
   "metadata": {},
   "outputs": [],
   "source": [
    "#iterate over all tickers we imported from the csv\n",
    "for index, row in tickers.iterrows():\n",
    "    symbol = row[\"Symbol\"]\n",
    "    print(f\"Symbol: {symbol}\")\n",
    "    \n",
    "    #try to retrieve the daily stock price information and store the json\n",
    "    try:\n",
    "        query_url = \"https://www.alphavantage.co/query?\" + \"function=\"+function + \"&symbol=\" + symbol+\"&outputsize\"+output_size +\"&datatype=\"+datatype+ \"&apikey=\" + api_key \n",
    "\n",
    "        stock_response = requests.get(query_url)\n",
    "\n",
    "        stock_json = stock_response.json()\n",
    "        # print historical stock data\n",
    "        #print(json.dumps(stock_json,indent=4))\n",
    "    except:\n",
    "        print(f\"Error retrieving {symbol}\")\n",
    "        \n",
    "    #use the time_period variable to pull back individual day's data out of the json and save in a dataframe\n",
    "    for i in range(time_period):\n",
    "        date_of_interest = (datetime.datetime.today()-datetime.timedelta(days=i))\n",
    "        #check if date weekday, if not get the data\n",
    "        if date_of_interest.weekday()<5:\n",
    "            try:\n",
    "                print(stock_json[\"Time Series (Daily)\"][date_of_interest.strftime('%Y-%m-%d')])\n",
    "            except:\n",
    "                print(f\"Could not get date:{date_of_interest}\")"
   ]
  }
 ],
 "metadata": {
  "kernelspec": {
   "display_name": "Python 3",
   "language": "python",
   "name": "python3"
  },
  "language_info": {
   "codemirror_mode": {
    "name": "ipython",
    "version": 3
   },
   "file_extension": ".py",
   "mimetype": "text/x-python",
   "name": "python",
   "nbconvert_exporter": "python",
   "pygments_lexer": "ipython3",
   "version": "3.6.5"
  }
 },
 "nbformat": 4,
 "nbformat_minor": 2
}
