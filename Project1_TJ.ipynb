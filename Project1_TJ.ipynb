{
 "cells": [
  {
   "cell_type": "code",
   "execution_count": 1,
   "metadata": {},
   "outputs": [],
   "source": [
    "import pandas as pd\n",
    "import requests\n",
    "from datetime import datetime\n",
    "from datetime import timedelta\n",
    "import matplotlib.pyplot as plt\n",
    "import matplotlib.patches as mpatches\n",
    "import plotly.plotly as py\n",
    "import plotly as plty\n",
    "import plotly.graph_objs as go"
   ]
  },
  {
   "cell_type": "code",
   "execution_count": 2,
   "metadata": {},
   "outputs": [
    {
     "data": {
      "text/html": [
       "<div>\n",
       "<style scoped>\n",
       "    .dataframe tbody tr th:only-of-type {\n",
       "        vertical-align: middle;\n",
       "    }\n",
       "\n",
       "    .dataframe tbody tr th {\n",
       "        vertical-align: top;\n",
       "    }\n",
       "\n",
       "    .dataframe thead th {\n",
       "        text-align: right;\n",
       "    }\n",
       "</style>\n",
       "<table border=\"1\" class=\"dataframe\">\n",
       "  <thead>\n",
       "    <tr style=\"text-align: right;\">\n",
       "      <th></th>\n",
       "      <th>Investor ID</th>\n",
       "      <th>Deal ID</th>\n",
       "      <th>Ticker</th>\n",
       "      <th>Investor Name</th>\n",
       "      <th>Portfolio Company ID</th>\n",
       "      <th>Deal Date</th>\n",
       "      <th>Deal Type 1</th>\n",
       "      <th>Deal Type 2</th>\n",
       "      <th>Portfolio Company Name</th>\n",
       "      <th>Description</th>\n",
       "      <th>...</th>\n",
       "      <th>Deal No.</th>\n",
       "      <th>Company Industry Sector</th>\n",
       "      <th>Company Industry Group</th>\n",
       "      <th>Company Industry Code</th>\n",
       "      <th>Company Verticals</th>\n",
       "      <th>All Industries</th>\n",
       "      <th>Company Business Status</th>\n",
       "      <th>Company Financing Status</th>\n",
       "      <th># of Employees at Company</th>\n",
       "      <th>Deal Class</th>\n",
       "    </tr>\n",
       "  </thead>\n",
       "  <tbody>\n",
       "    <tr>\n",
       "      <th>0</th>\n",
       "      <td>57961-99</td>\n",
       "      <td>88708-42T</td>\n",
       "      <td>FOX</td>\n",
       "      <td>21st Century Fox</td>\n",
       "      <td>179267-95</td>\n",
       "      <td>06-Jun-2017</td>\n",
       "      <td>Merger/Acquisition</td>\n",
       "      <td>NaN</td>\n",
       "      <td>Aftershock</td>\n",
       "      <td>Operator of mobile gaming studio intended to c...</td>\n",
       "      <td>...</td>\n",
       "      <td>2</td>\n",
       "      <td>Information Technology</td>\n",
       "      <td>Software</td>\n",
       "      <td>Entertainment Software</td>\n",
       "      <td>Mobile</td>\n",
       "      <td>Entertainment Software*</td>\n",
       "      <td>Generating Revenue</td>\n",
       "      <td>Formerly VC-Backed</td>\n",
       "      <td>80</td>\n",
       "      <td>Corporate</td>\n",
       "    </tr>\n",
       "  </tbody>\n",
       "</table>\n",
       "<p>1 rows × 21 columns</p>\n",
       "</div>"
      ],
      "text/plain": [
       "  Investor ID    Deal ID Ticker     Investor Name Portfolio Company ID  \\\n",
       "0    57961-99  88708-42T    FOX  21st Century Fox            179267-95   \n",
       "\n",
       "     Deal Date         Deal Type 1 Deal Type 2 Portfolio Company Name  \\\n",
       "0  06-Jun-2017  Merger/Acquisition         NaN             Aftershock   \n",
       "\n",
       "                                         Description    ...     Deal No.  \\\n",
       "0  Operator of mobile gaming studio intended to c...    ...            2   \n",
       "\n",
       "   Company Industry Sector Company Industry Group   Company Industry Code  \\\n",
       "0   Information Technology               Software  Entertainment Software   \n",
       "\n",
       "  Company Verticals           All Industries Company Business Status  \\\n",
       "0            Mobile  Entertainment Software*      Generating Revenue   \n",
       "\n",
       "  Company Financing Status # of Employees at Company Deal Class  \n",
       "0       Formerly VC-Backed                        80  Corporate  \n",
       "\n",
       "[1 rows x 21 columns]"
      ]
     },
     "execution_count": 2,
     "metadata": {},
     "output_type": "execute_result"
    }
   ],
   "source": [
    "deals_df = pd.read_csv(\"PitchBook_Deals3.csv\")\n",
    "deals_df.head(1)"
   ]
  },
  {
   "cell_type": "code",
   "execution_count": 3,
   "metadata": {},
   "outputs": [],
   "source": [
    "tickers = []\n",
    "sectors = []\n",
    "\n",
    "deals_df = deals_df.dropna(subset = ['Ticker'],how='any')\n",
    "\n",
    "for deal in deals_df['Ticker']:\n",
    "    tickers.append(deal)\n",
    "\n",
    "for deal in deals_df['Company Industry Sector']:\n",
    "    sectors.append(deal)\n"
   ]
  },
  {
   "cell_type": "code",
   "execution_count": 4,
   "metadata": {},
   "outputs": [
    {
     "name": "stdout",
     "output_type": "stream",
     "text": [
      "Error: No Deal Found (1)\n",
      "Error: No Deal Found (2)\n",
      "Error: No Deal Found (3)\n",
      "Error: No Deal Found (4)\n",
      "Error: No Deal Found (5)\n",
      "Error: No Deal Found (6)\n",
      "Error: No Deal Found (7)\n",
      "Error: No Deal Found (8)\n",
      "Error: No Deal Found (9)\n",
      "Error: No Deal Found (10)\n",
      "Error: No Deal Found (11)\n",
      "Error: No Deal Found (12)\n",
      "Error: No Deal Found (13)\n",
      "Error: No Deal Found (14)\n",
      "Error: No Deal Found (15)\n",
      "Error: No Deal Found (16)\n",
      "Error: No Deal Found (17)\n",
      "Error: No Deal Found (18)\n",
      "Error: No Deal Found (19)\n",
      "Error: No Deal Found (20)\n",
      "Error: No Deal Found (21)\n",
      "Error: No Deal Found (22)\n",
      "Error: No Deal Found (23)\n",
      "Error: No Deal Found (24)\n",
      "Error: No Deal Found (25)\n",
      "Error: No Deal Found (26)\n",
      "Error: No Deal Found (27)\n",
      "Error: No Deal Found (28)\n",
      "Error: No Deal Found (29)\n"
     ]
    }
   ],
   "source": [
    "stockdata = []\n",
    "stocks_list = []\n",
    "stock_data_df = pd.DataFrame()\n",
    "counter = 1\n",
    "\n",
    "for ticker in tickers:\n",
    "    url = f\"https://api.iextrading.com/1.0/stock/{ticker}/batch?types=chart&range=2y\"\n",
    "    dealdate = ''\n",
    "    sector = ''\n",
    "    try:\n",
    "        deals2_df = deals_df.loc[deals_df[\"Ticker\"] == ticker, :]\n",
    "        deals2_df = deals2_df.dropna(subset = ['Deal Date'],how='any')\n",
    "        dealdate = deals2_df.iloc[0]['Deal Date']\n",
    "        dealdate = datetime.strptime(dealdate, '%d-%b-%Y')\n",
    "        sector = deals2_df.iloc[0]['Company Industry Sector']\n",
    "    except:\n",
    "        print(f\"Error: No Deal Found ({counter})\")\n",
    "        counter += 1\n",
    "        \n",
    "    try:\n",
    "\n",
    "        stocks = requests.get(url).json()\n",
    "\n",
    "        stocks_list = [stock for stock in stocks[\"chart\"]]\n",
    "\n",
    "        for stock in stocks_list:\n",
    "            date = stock['date']\n",
    "            close = stock['close']\n",
    "\n",
    "            date = datetime.strptime(date, '%Y-%m-%d')\n",
    "            if not dealdate == '':\n",
    "                startdate = dealdate - timedelta(days=7)\n",
    "                enddate = dealdate + timedelta(days=7)\n",
    "                if (date >= startdate and date <= enddate):\n",
    "                    stockdata.append({\"Ticker\":ticker, \"LatestPrice\":close, \"CloseTime\":date, \"DealDate\":dealdate, \"Sector\":sector})\n",
    "\n",
    "    except:\n",
    "        print(\"Error\")    \n",
    "\n",
    "\n",
    "\n",
    "stock_data_df = pd.DataFrame(stockdata)"
   ]
  },
  {
   "cell_type": "code",
   "execution_count": 5,
   "metadata": {},
   "outputs": [
    {
     "name": "stdout",
     "output_type": "stream",
     "text": [
      "['FOX' 'ACN' 'ALL' 'AMZN' 'AXP' 'AMGN' 'BRK.A' 'BLK' 'BA' 'BKNG' 'BMY'\n",
      " 'COF' 'CELG' 'KO' 'CL' 'CMCSA' 'DWDP' 'DUK' 'LLY' 'EXC' 'XOM' 'FDX' 'F'\n",
      " 'GILD' 'INTC' 'JPM' 'LMT' 'MA' 'MCD' 'MRK' 'MSFT' 'MDLZ' 'NFLX' 'NKE'\n",
      " 'PYPL' 'PFE' 'PG' 'QCOM' 'SLB' 'SO' 'SBUX' 'TGT' 'HD' 'UNP' 'UPS' 'UNH'\n",
      " 'V' 'WMT']\n",
      "['Information Technology' 'Consumer Products and Services (B2C)'\n",
      " 'Healthcare' 'Financial Services' 'Business Products and Services (B2B)'\n",
      " 'Energy']\n"
     ]
    }
   ],
   "source": [
    "tickerlist = stock_data_df['Ticker'].unique()\n",
    "print(tickerlist)\n",
    "\n",
    "sectorlist = stock_data_df['Sector'].unique()\n",
    "print(sectorlist)"
   ]
  },
  {
   "cell_type": "code",
   "execution_count": 6,
   "metadata": {},
   "outputs": [],
   "source": [
    "sectorcolors = []\n",
    "colorcounter = 1\n",
    "for sector in sectorlist:\n",
    "    sectorcolors.append({'Sector':sector, 'SectorColor':colorcounter})\n",
    "    colorcounter += 1"
   ]
  },
  {
   "cell_type": "code",
   "execution_count": 7,
   "metadata": {},
   "outputs": [],
   "source": [
    "stocks1 = []\n",
    "\n",
    "for ticker in tickerlist:\n",
    "    \n",
    "    startamount = 0\n",
    "    endamount = 0\n",
    "    \n",
    "    \n",
    "    for index, stock in stock_data_df.iterrows():\n",
    "        if (stock['Ticker'] == ticker):\n",
    "            if (startamount == 0):\n",
    "                startamount = stock['LatestPrice']\n",
    "            endamount = stock['LatestPrice']\n",
    "            sector = stock['Sector']\n",
    "\n",
    "            for x in range(len(sectorcolors)):\n",
    "                if (sector == sectorcolors[x]['Sector']):\n",
    "                    if (sectorcolors[x]['SectorColor'] == 1):\n",
    "                        sectorcolor = 'blue'\n",
    "                    elif (sectorcolors[x]['SectorColor'] == 2):\n",
    "                        sectorcolor = 'orange'\n",
    "                    elif (sectorcolors[x]['SectorColor'] == 3):\n",
    "                        sectorcolor = 'green'\n",
    "                    elif (sectorcolors[x]['SectorColor'] == 4):\n",
    "                        sectorcolor = 'red'\n",
    "                    elif (sectorcolors[x]['SectorColor'] == 5):\n",
    "                        sectorcolor = 'purple'\n",
    "                    else:\n",
    "                        sectorcolor = 'brown'\n",
    "            \n",
    "\n",
    "    pricediff = endamount - startamount\n",
    "    percentchange = ((endamount - startamount) / startamount) * 100\n",
    "    stocks1.append({'Ticker':ticker, 'StartPrice':startamount, 'EndPrice':endamount, 'PriceDiff':pricediff, 'PercentChange':percentchange, 'Sector':sector, 'SectorColor':sectorcolor})\n"
   ]
  },
  {
   "cell_type": "code",
   "execution_count": 8,
   "metadata": {},
   "outputs": [],
   "source": [
    "stocks1_df = pd.DataFrame(stocks1)"
   ]
  },
  {
   "cell_type": "code",
   "execution_count": 11,
   "metadata": {},
   "outputs": [
    {
     "data": {
      "image/png": "[encoded data removed]",
      "text/plain": [
       "<matplotlib.figure.Figure at 0x105a68128>"
      ]
     },
     "metadata": {},
     "output_type": "display_data"
    }
   ],
   "source": [
    "plt.figure(figsize=(15,7))\n",
    "plt.xlabel('Tickers')\n",
    "plt.ylabel('Percent Change')\n",
    "plt.title(\"Percent Change After an Acquisition\")\n",
    "plt.scatter(stocks1_df['Ticker'],stocks1_df['PercentChange'],s=150, c=stocks1_df['SectorColor'], label=stocks1_df['Sector'])\n",
    "plt.xticks(rotation=90)\n",
    "\n",
    "color1 = mpatches.Patch(color='blue', label='Information Technology')\n",
    "color2 = mpatches.Patch(color='orange', label='Consumer Products and Services (B2C)')\n",
    "color3 = mpatches.Patch(color='green', label='Healthcare')\n",
    "color4 = mpatches.Patch(color='red', label='Financial Services')\n",
    "color5 = mpatches.Patch(color='purple', label='Business Products and Services (B2B)')\n",
    "color6 = mpatches.Patch(color='brown', label='Energy')\n",
    "lgd = plt.legend(bbox_to_anchor=(1.01, 1), loc=2, borderaxespad=0., handles=[color1, color2, color3, color4, color5, color6])\n",
    "plt.savefig('PercentChange_Scatter.png', bbox_extra_artists=(lgd,), bbox_inches='tight', dpi=300)\n",
    "plt.show()"
   ]
  },
  {
   "cell_type": "code",
   "execution_count": 10,
   "metadata": {},
   "outputs": [
    {
     "data": {
      "text/html": [
       "<iframe id=\"igraph\" scrolling=\"no\" style=\"border:none;\" seamless=\"seamless\" src=\"https://plot.ly/~tjzientek/2.embed\" height=\"525px\" width=\"100%\"></iframe>"
      ],
      "text/plain": [
       "<plotly.tools.PlotlyDisplay object>"
      ]
     },
     "execution_count": 10,
     "metadata": {},
     "output_type": "execute_result"
    }
   ],
   "source": [
    "df1 = stocks1_df.loc[stocks1_df['Sector'] == 'Information Technology']\n",
    "df2 = stocks1_df.loc[stocks1_df['Sector'] == 'Consumer Products and Services (B2C)']\n",
    "df3 = stocks1_df.loc[stocks1_df['Sector'] == 'Healthcare']\n",
    "df4 = stocks1_df.loc[stocks1_df['Sector'] == 'Financial Services']\n",
    "df5 = stocks1_df.loc[stocks1_df['Sector'] == 'Business Products and Services (B2B)']\n",
    "df6 = stocks1_df.loc[stocks1_df['Sector'] == 'Energy']\n",
    "\n",
    "trace1 = go.Scatter(x = df1['Ticker'], y = df1['PercentChange'], mode = 'markers', name = 'Information Technology', marker = dict(size = 15))\n",
    "trace2 = go.Scatter(x = df2['Ticker'], y = df2['PercentChange'], mode = 'markers', name = 'Consumer Products and Services (B2C)', marker = dict(size = 15))\n",
    "trace3 = go.Scatter(x = df3['Ticker'], y = df3['PercentChange'], mode = 'markers', name = 'Healthcare', marker = dict(size = 15))\n",
    "trace4 = go.Scatter(x = df4['Ticker'], y = df4['PercentChange'], mode = 'markers', name = 'Financial Services', marker = dict(size = 15))\n",
    "trace5 = go.Scatter(x = df5['Ticker'], y = df5['PercentChange'], mode = 'markers', name = 'Business Products and Services (B2B)', marker = dict(size = 15))\n",
    "trace6 = go.Scatter(x = df6['Ticker'], y = df6['PercentChange'], mode = 'markers', name = 'Energy', marker = dict(size = 15))\n",
    "\n",
    "data = [trace1, trace2, trace3, trace4, trace5, trace6]\n",
    "\n",
    "layout = dict(title = 'Percent Change After an Acquisition', xaxis=dict(title='Ticker'), \n",
    "    yaxis=dict(title='Percent Change'))\n",
    "\n",
    "fig = dict(data=data, layout=layout)\n",
    "\n",
    "plty.tools.set_credentials_file(username='tjzientek', api_key='g7B0jcqPpaJ2sqt2RWzM')\n",
    "\n",
    "py.iplot(fig, filename='PercentChange_Scatter')"
   ]
  },
  {
   "cell_type": "code",
   "execution_count": null,
   "metadata": {},
   "outputs": [],
   "source": []
  }
 ],
 "metadata": {
  "kernelspec": {
   "display_name": "Python 3",
   "language": "python",
   "name": "python3"
  },
  "language_info": {
   "codemirror_mode": {
    "name": "ipython",
    "version": 3
   },
   "file_extension": ".py",
   "mimetype": "text/x-python",
   "name": "python",
   "nbconvert_exporter": "python",
   "pygments_lexer": "ipython3",
   "version": "3.6.4"
  }
 },
 "nbformat": 4,
 "nbformat_minor": 2
}
