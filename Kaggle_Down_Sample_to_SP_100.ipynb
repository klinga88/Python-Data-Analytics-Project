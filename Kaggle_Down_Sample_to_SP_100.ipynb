{
 "cells": [
  {
   "cell_type": "code",
   "execution_count": 12,
   "metadata": {
    "ExecuteTime": {
     "end_time": "2018-06-28T00:36:41.573567Z",
     "start_time": "2018-06-28T00:36:41.562596Z"
    }
   },
   "outputs": [],
   "source": [
    "#Take Original Kaggle dataset and get just the SP100 stocks\n",
    "import os \n",
    "import pandas as pd\n",
    "import shutil\n",
    "\n",
    "tickers = pd.read_csv(\"SP_100_Tickers.csv\")\n",
    "input_folder = os.path.join(\"..\",\"Data\",\"Stocks\")\n",
    "output_folder = os.path.join(\"..\",\"Data\",\"SP 100\")"
   ]
  },
  {
   "cell_type": "code",
   "execution_count": 13,
   "metadata": {
    "ExecuteTime": {
     "end_time": "2018-06-28T00:36:42.504079Z",
     "start_time": "2018-06-28T00:36:42.495144Z"
    }
   },
   "outputs": [
    {
     "data": {
      "text/html": [
       "<div>\n",
       "<style scoped>\n",
       "    .dataframe tbody tr th:only-of-type {\n",
       "        vertical-align: middle;\n",
       "    }\n",
       "\n",
       "    .dataframe tbody tr th {\n",
       "        vertical-align: top;\n",
       "    }\n",
       "\n",
       "    .dataframe thead th {\n",
       "        text-align: right;\n",
       "    }\n",
       "</style>\n",
       "<table border=\"1\" class=\"dataframe\">\n",
       "  <thead>\n",
       "    <tr style=\"text-align: right;\">\n",
       "      <th></th>\n",
       "      <th>Symbol</th>\n",
       "      <th>Name</th>\n",
       "    </tr>\n",
       "  </thead>\n",
       "  <tbody>\n",
       "    <tr>\n",
       "      <th>0</th>\n",
       "      <td>AAPL</td>\n",
       "      <td>Apple Inc.</td>\n",
       "    </tr>\n",
       "    <tr>\n",
       "      <th>1</th>\n",
       "      <td>ABBV</td>\n",
       "      <td>AbbVie Inc.</td>\n",
       "    </tr>\n",
       "    <tr>\n",
       "      <th>2</th>\n",
       "      <td>ABT</td>\n",
       "      <td>Abbott Laboratories</td>\n",
       "    </tr>\n",
       "    <tr>\n",
       "      <th>3</th>\n",
       "      <td>ACN</td>\n",
       "      <td>Accenture plc</td>\n",
       "    </tr>\n",
       "    <tr>\n",
       "      <th>4</th>\n",
       "      <td>AGN</td>\n",
       "      <td>Allergan plc</td>\n",
       "    </tr>\n",
       "  </tbody>\n",
       "</table>\n",
       "</div>"
      ],
      "text/plain": [
       "  Symbol                       Name\n",
       "0   AAPL           Apple Inc.      \n",
       "1   ABBV          AbbVie Inc.      \n",
       "2    ABT  Abbott Laboratories      \n",
       "3    ACN        Accenture plc      \n",
       "4    AGN         Allergan plc      "
      ]
     },
     "execution_count": 13,
     "metadata": {},
     "output_type": "execute_result"
    }
   ],
   "source": [
    "tickers.head()"
   ]
  },
  {
   "cell_type": "code",
   "execution_count": 17,
   "metadata": {
    "ExecuteTime": {
     "end_time": "2018-06-28T00:41:57.812592Z",
     "start_time": "2018-06-28T00:41:56.386448Z"
    }
   },
   "outputs": [
    {
     "name": "stdout",
     "output_type": "stream",
     "text": [
      "Found {file_ticker_symbol}\n",
      "Found {file_ticker_symbol}\n",
      "Found {file_ticker_symbol}\n",
      "Found {file_ticker_symbol}\n",
      "Found {file_ticker_symbol}\n",
      "Found {file_ticker_symbol}\n",
      "Found {file_ticker_symbol}\n",
      "Found {file_ticker_symbol}\n",
      "Found {file_ticker_symbol}\n",
      "Found {file_ticker_symbol}\n",
      "Found {file_ticker_symbol}\n",
      "Found {file_ticker_symbol}\n",
      "Found {file_ticker_symbol}\n",
      "Found {file_ticker_symbol}\n",
      "Found {file_ticker_symbol}\n",
      "Found {file_ticker_symbol}\n",
      "Found {file_ticker_symbol}\n",
      "Found {file_ticker_symbol}\n",
      "Found {file_ticker_symbol}\n",
      "Found {file_ticker_symbol}\n",
      "Found {file_ticker_symbol}\n",
      "Found {file_ticker_symbol}\n",
      "Found {file_ticker_symbol}\n",
      "Found {file_ticker_symbol}\n",
      "Found {file_ticker_symbol}\n",
      "Found {file_ticker_symbol}\n",
      "Found {file_ticker_symbol}\n",
      "Found {file_ticker_symbol}\n",
      "Found {file_ticker_symbol}\n",
      "Found {file_ticker_symbol}\n",
      "Found {file_ticker_symbol}\n",
      "Found {file_ticker_symbol}\n",
      "Found {file_ticker_symbol}\n",
      "Found {file_ticker_symbol}\n",
      "Found {file_ticker_symbol}\n",
      "Found {file_ticker_symbol}\n",
      "Found {file_ticker_symbol}\n",
      "Found {file_ticker_symbol}\n",
      "Found {file_ticker_symbol}\n",
      "Found {file_ticker_symbol}\n",
      "Found {file_ticker_symbol}\n",
      "Found {file_ticker_symbol}\n",
      "Found {file_ticker_symbol}\n",
      "Found {file_ticker_symbol}\n",
      "Found {file_ticker_symbol}\n",
      "Found {file_ticker_symbol}\n",
      "Found {file_ticker_symbol}\n",
      "Found {file_ticker_symbol}\n",
      "Found {file_ticker_symbol}\n",
      "Found {file_ticker_symbol}\n",
      "Found {file_ticker_symbol}\n",
      "Found {file_ticker_symbol}\n",
      "Found {file_ticker_symbol}\n",
      "Found {file_ticker_symbol}\n",
      "Found {file_ticker_symbol}\n",
      "Found {file_ticker_symbol}\n",
      "Found {file_ticker_symbol}\n",
      "Found {file_ticker_symbol}\n",
      "Found {file_ticker_symbol}\n",
      "Found {file_ticker_symbol}\n",
      "Found {file_ticker_symbol}\n",
      "Found {file_ticker_symbol}\n",
      "Found {file_ticker_symbol}\n",
      "Found {file_ticker_symbol}\n",
      "Found {file_ticker_symbol}\n",
      "Found {file_ticker_symbol}\n",
      "Found {file_ticker_symbol}\n",
      "Found {file_ticker_symbol}\n",
      "Found {file_ticker_symbol}\n",
      "Found {file_ticker_symbol}\n",
      "Found {file_ticker_symbol}\n",
      "Found {file_ticker_symbol}\n",
      "Found {file_ticker_symbol}\n",
      "Found {file_ticker_symbol}\n",
      "Found {file_ticker_symbol}\n",
      "Found {file_ticker_symbol}\n",
      "Found {file_ticker_symbol}\n",
      "Found {file_ticker_symbol}\n",
      "Found {file_ticker_symbol}\n",
      "Found {file_ticker_symbol}\n",
      "Found {file_ticker_symbol}\n",
      "Found {file_ticker_symbol}\n",
      "Found {file_ticker_symbol}\n",
      "Found {file_ticker_symbol}\n",
      "Found {file_ticker_symbol}\n",
      "Found {file_ticker_symbol}\n",
      "Found {file_ticker_symbol}\n",
      "Found {file_ticker_symbol}\n",
      "Found {file_ticker_symbol}\n",
      "Found {file_ticker_symbol}\n",
      "Found {file_ticker_symbol}\n",
      "Found {file_ticker_symbol}\n",
      "Found {file_ticker_symbol}\n",
      "Found {file_ticker_symbol}\n",
      "Found {file_ticker_symbol}\n",
      "Found {file_ticker_symbol}\n",
      "Found {file_ticker_symbol}\n",
      "Found {file_ticker_symbol}\n",
      "Found {file_ticker_symbol}\n",
      "Found {file_ticker_symbol}\n",
      "Counter: 100\n"
     ]
    }
   ],
   "source": [
    "counter = 0\n",
    "for root, _, files in os.walk(input_folder):\n",
    "    for f in files:\n",
    "       # print(f\"File: {f}\")\n",
    "        file_ticker_symbol = f.split(\".\")[0]\n",
    "        #print(f\"File Ticker: {file_ticker_symbol}\")\n",
    "        if file_ticker_symbol.upper() in tickers[\"Symbol\"].tolist():\n",
    "            print(\"Found {file_ticker_symbol}\")\n",
    "            shutil.copy(os.path.join(input_folder,f), os.path.join(output_folder))\n",
    "            counter +=1\n",
    "print(f\"Counter: {counter}\")"
   ]
  },
  {
   "cell_type": "code",
   "execution_count": 10,
   "metadata": {
    "ExecuteTime": {
     "end_time": "2018-06-28T00:35:31.103975Z",
     "start_time": "2018-06-28T00:35:31.098990Z"
    }
   },
   "outputs": [
    {
     "name": "stdout",
     "output_type": "stream",
     "text": [
      "['AAPL', 'ABBV', 'ABT', 'ACN', 'AGN', 'AIG', 'ALL', 'AMGN', 'AMZN', 'AXP', 'BA', 'BAC', 'BIIB', 'BK', 'BKNG', 'BLK', 'BMY', 'BRK.B', 'C', 'CAT', 'CELG', 'CHTR', 'CL', 'CMCSA', 'COF', 'COP', 'COST', 'CSCO', 'CVS', 'CVX', 'DHR', 'DIS', 'DUK', 'DWDP', 'EMR', 'EXC', 'F', 'FB', 'FDX', 'FOX', 'FOXA', 'GD', 'GE', 'GILD', 'GM', 'GOOG', 'GOOGL', 'GS', 'HAL', 'HD', 'HON', 'IBM', 'INTC', 'JNJ', 'JPM', 'KHC', 'KMI', 'KO', 'LLY', 'LMT', 'LOW', 'MA', 'MCD', 'MDLZ', 'MDT', 'MET', 'MMM', 'MO', 'MRK', 'MS', 'MSFT', 'NEE', 'NFLX', 'NKE', 'NVDA', 'ORCL', 'OXY', 'PEP', 'PFE', 'PG', 'PM', 'PYPL', 'QCOM', 'RTN', 'SBUX', 'SLB', 'SO', 'SPG', 'T', 'TGT', 'TXN', 'UNH', 'UNP', 'UPS', 'USB', 'UTX', 'V', 'VZ', 'WBA', 'WFC', 'WMT', 'XOM']\n"
     ]
    }
   ],
   "source": [
    "print(tickers[\"Symbol\"].tolist())"
   ]
  },
  {
   "cell_type": "code",
   "execution_count": null,
   "metadata": {},
   "outputs": [],
   "source": []
  }
 ],
 "metadata": {
  "kernelspec": {
   "display_name": "Python 3",
   "language": "python",
   "name": "python3"
  },
  "language_info": {
   "codemirror_mode": {
    "name": "ipython",
    "version": 3
   },
   "file_extension": ".py",
   "mimetype": "text/x-python",
   "name": "python",
   "nbconvert_exporter": "python",
   "pygments_lexer": "ipython3",
   "version": "3.6.5"
  }
 },
 "nbformat": 4,
 "nbformat_minor": 2
}
